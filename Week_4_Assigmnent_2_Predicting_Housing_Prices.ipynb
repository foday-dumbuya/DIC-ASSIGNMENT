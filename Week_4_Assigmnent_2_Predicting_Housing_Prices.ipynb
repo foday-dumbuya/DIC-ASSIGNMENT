{
 "cells": [
  {
   "cell_type": "markdown",
   "metadata": {},
   "source": [
    "# [Problem 1] Feature selection for practice"
   ]
  },
  {
   "cell_type": "code",
   "execution_count": 1,
   "metadata": {
    "id": "G7TlqCgVTsQg",
    "outputId": "821ffa84-5284-4410-be69-efbfcb13d3e2"
   },
   "outputs": [],
   "source": [
    "import pandas as pd"
   ]
  },
  {
   "cell_type": "markdown",
   "metadata": {},
   "source": [
    "- <b>We first read the dataset, extract the explanatory variables GrLivArea and YearBuilt, and the objective variable SalePrice, respectively</b>"
   ]
  },
  {
   "cell_type": "code",
   "execution_count": 2,
   "metadata": {},
   "outputs": [
    {
     "ename": "FileNotFoundError",
     "evalue": "[Errno 2] No such file or directory: 'train.csv'",
     "output_type": "error",
     "traceback": [
      "\u001b[1;31m---------------------------------------------------------------------------\u001b[0m",
      "\u001b[1;31mFileNotFoundError\u001b[0m                         Traceback (most recent call last)",
      "\u001b[1;32m<ipython-input-2-9335d2430c88>\u001b[0m in \u001b[0;36m<module>\u001b[1;34m\u001b[0m\n\u001b[1;32m----> 1\u001b[1;33m \u001b[0mpd_train\u001b[0m \u001b[1;33m=\u001b[0m \u001b[0mpd\u001b[0m\u001b[1;33m.\u001b[0m\u001b[0mread_csv\u001b[0m\u001b[1;33m(\u001b[0m\u001b[1;34m'train.csv'\u001b[0m\u001b[1;33m)\u001b[0m\u001b[1;33m\u001b[0m\u001b[1;33m\u001b[0m\u001b[0m\n\u001b[0m\u001b[0;32m      2\u001b[0m \u001b[0mtarget_variable\u001b[0m \u001b[1;33m=\u001b[0m \u001b[0mpd_train\u001b[0m\u001b[1;33m[\u001b[0m\u001b[1;33m[\u001b[0m\u001b[1;34m\"GrLivArea\"\u001b[0m\u001b[1;33m,\u001b[0m\u001b[1;34m\"YearBuilt\"\u001b[0m\u001b[1;33m,\u001b[0m \u001b[1;34m\"SalePrice\"\u001b[0m\u001b[1;33m]\u001b[0m\u001b[1;33m]\u001b[0m\u001b[1;33m\u001b[0m\u001b[1;33m\u001b[0m\u001b[0m\n",
      "\u001b[1;32m~\\anaconda3\\lib\\site-packages\\pandas\\io\\parsers.py\u001b[0m in \u001b[0;36mread_csv\u001b[1;34m(filepath_or_buffer, sep, delimiter, header, names, index_col, usecols, squeeze, prefix, mangle_dupe_cols, dtype, engine, converters, true_values, false_values, skipinitialspace, skiprows, skipfooter, nrows, na_values, keep_default_na, na_filter, verbose, skip_blank_lines, parse_dates, infer_datetime_format, keep_date_col, date_parser, dayfirst, cache_dates, iterator, chunksize, compression, thousands, decimal, lineterminator, quotechar, quoting, doublequote, escapechar, comment, encoding, dialect, error_bad_lines, warn_bad_lines, delim_whitespace, low_memory, memory_map, float_precision)\u001b[0m\n\u001b[0;32m    684\u001b[0m     )\n\u001b[0;32m    685\u001b[0m \u001b[1;33m\u001b[0m\u001b[0m\n\u001b[1;32m--> 686\u001b[1;33m     \u001b[1;32mreturn\u001b[0m \u001b[0m_read\u001b[0m\u001b[1;33m(\u001b[0m\u001b[0mfilepath_or_buffer\u001b[0m\u001b[1;33m,\u001b[0m \u001b[0mkwds\u001b[0m\u001b[1;33m)\u001b[0m\u001b[1;33m\u001b[0m\u001b[1;33m\u001b[0m\u001b[0m\n\u001b[0m\u001b[0;32m    687\u001b[0m \u001b[1;33m\u001b[0m\u001b[0m\n\u001b[0;32m    688\u001b[0m \u001b[1;33m\u001b[0m\u001b[0m\n",
      "\u001b[1;32m~\\anaconda3\\lib\\site-packages\\pandas\\io\\parsers.py\u001b[0m in \u001b[0;36m_read\u001b[1;34m(filepath_or_buffer, kwds)\u001b[0m\n\u001b[0;32m    450\u001b[0m \u001b[1;33m\u001b[0m\u001b[0m\n\u001b[0;32m    451\u001b[0m     \u001b[1;31m# Create the parser.\u001b[0m\u001b[1;33m\u001b[0m\u001b[1;33m\u001b[0m\u001b[1;33m\u001b[0m\u001b[0m\n\u001b[1;32m--> 452\u001b[1;33m     \u001b[0mparser\u001b[0m \u001b[1;33m=\u001b[0m \u001b[0mTextFileReader\u001b[0m\u001b[1;33m(\u001b[0m\u001b[0mfp_or_buf\u001b[0m\u001b[1;33m,\u001b[0m \u001b[1;33m**\u001b[0m\u001b[0mkwds\u001b[0m\u001b[1;33m)\u001b[0m\u001b[1;33m\u001b[0m\u001b[1;33m\u001b[0m\u001b[0m\n\u001b[0m\u001b[0;32m    453\u001b[0m \u001b[1;33m\u001b[0m\u001b[0m\n\u001b[0;32m    454\u001b[0m     \u001b[1;32mif\u001b[0m \u001b[0mchunksize\u001b[0m \u001b[1;32mor\u001b[0m \u001b[0miterator\u001b[0m\u001b[1;33m:\u001b[0m\u001b[1;33m\u001b[0m\u001b[1;33m\u001b[0m\u001b[0m\n",
      "\u001b[1;32m~\\anaconda3\\lib\\site-packages\\pandas\\io\\parsers.py\u001b[0m in \u001b[0;36m__init__\u001b[1;34m(self, f, engine, **kwds)\u001b[0m\n\u001b[0;32m    944\u001b[0m             \u001b[0mself\u001b[0m\u001b[1;33m.\u001b[0m\u001b[0moptions\u001b[0m\u001b[1;33m[\u001b[0m\u001b[1;34m\"has_index_names\"\u001b[0m\u001b[1;33m]\u001b[0m \u001b[1;33m=\u001b[0m \u001b[0mkwds\u001b[0m\u001b[1;33m[\u001b[0m\u001b[1;34m\"has_index_names\"\u001b[0m\u001b[1;33m]\u001b[0m\u001b[1;33m\u001b[0m\u001b[1;33m\u001b[0m\u001b[0m\n\u001b[0;32m    945\u001b[0m \u001b[1;33m\u001b[0m\u001b[0m\n\u001b[1;32m--> 946\u001b[1;33m         \u001b[0mself\u001b[0m\u001b[1;33m.\u001b[0m\u001b[0m_make_engine\u001b[0m\u001b[1;33m(\u001b[0m\u001b[0mself\u001b[0m\u001b[1;33m.\u001b[0m\u001b[0mengine\u001b[0m\u001b[1;33m)\u001b[0m\u001b[1;33m\u001b[0m\u001b[1;33m\u001b[0m\u001b[0m\n\u001b[0m\u001b[0;32m    947\u001b[0m \u001b[1;33m\u001b[0m\u001b[0m\n\u001b[0;32m    948\u001b[0m     \u001b[1;32mdef\u001b[0m \u001b[0mclose\u001b[0m\u001b[1;33m(\u001b[0m\u001b[0mself\u001b[0m\u001b[1;33m)\u001b[0m\u001b[1;33m:\u001b[0m\u001b[1;33m\u001b[0m\u001b[1;33m\u001b[0m\u001b[0m\n",
      "\u001b[1;32m~\\anaconda3\\lib\\site-packages\\pandas\\io\\parsers.py\u001b[0m in \u001b[0;36m_make_engine\u001b[1;34m(self, engine)\u001b[0m\n\u001b[0;32m   1176\u001b[0m     \u001b[1;32mdef\u001b[0m \u001b[0m_make_engine\u001b[0m\u001b[1;33m(\u001b[0m\u001b[0mself\u001b[0m\u001b[1;33m,\u001b[0m \u001b[0mengine\u001b[0m\u001b[1;33m=\u001b[0m\u001b[1;34m\"c\"\u001b[0m\u001b[1;33m)\u001b[0m\u001b[1;33m:\u001b[0m\u001b[1;33m\u001b[0m\u001b[1;33m\u001b[0m\u001b[0m\n\u001b[0;32m   1177\u001b[0m         \u001b[1;32mif\u001b[0m \u001b[0mengine\u001b[0m \u001b[1;33m==\u001b[0m \u001b[1;34m\"c\"\u001b[0m\u001b[1;33m:\u001b[0m\u001b[1;33m\u001b[0m\u001b[1;33m\u001b[0m\u001b[0m\n\u001b[1;32m-> 1178\u001b[1;33m             \u001b[0mself\u001b[0m\u001b[1;33m.\u001b[0m\u001b[0m_engine\u001b[0m \u001b[1;33m=\u001b[0m \u001b[0mCParserWrapper\u001b[0m\u001b[1;33m(\u001b[0m\u001b[0mself\u001b[0m\u001b[1;33m.\u001b[0m\u001b[0mf\u001b[0m\u001b[1;33m,\u001b[0m \u001b[1;33m**\u001b[0m\u001b[0mself\u001b[0m\u001b[1;33m.\u001b[0m\u001b[0moptions\u001b[0m\u001b[1;33m)\u001b[0m\u001b[1;33m\u001b[0m\u001b[1;33m\u001b[0m\u001b[0m\n\u001b[0m\u001b[0;32m   1179\u001b[0m         \u001b[1;32melse\u001b[0m\u001b[1;33m:\u001b[0m\u001b[1;33m\u001b[0m\u001b[1;33m\u001b[0m\u001b[0m\n\u001b[0;32m   1180\u001b[0m             \u001b[1;32mif\u001b[0m \u001b[0mengine\u001b[0m \u001b[1;33m==\u001b[0m \u001b[1;34m\"python\"\u001b[0m\u001b[1;33m:\u001b[0m\u001b[1;33m\u001b[0m\u001b[1;33m\u001b[0m\u001b[0m\n",
      "\u001b[1;32m~\\anaconda3\\lib\\site-packages\\pandas\\io\\parsers.py\u001b[0m in \u001b[0;36m__init__\u001b[1;34m(self, src, **kwds)\u001b[0m\n\u001b[0;32m   2006\u001b[0m         \u001b[0mkwds\u001b[0m\u001b[1;33m[\u001b[0m\u001b[1;34m\"usecols\"\u001b[0m\u001b[1;33m]\u001b[0m \u001b[1;33m=\u001b[0m \u001b[0mself\u001b[0m\u001b[1;33m.\u001b[0m\u001b[0musecols\u001b[0m\u001b[1;33m\u001b[0m\u001b[1;33m\u001b[0m\u001b[0m\n\u001b[0;32m   2007\u001b[0m \u001b[1;33m\u001b[0m\u001b[0m\n\u001b[1;32m-> 2008\u001b[1;33m         \u001b[0mself\u001b[0m\u001b[1;33m.\u001b[0m\u001b[0m_reader\u001b[0m \u001b[1;33m=\u001b[0m \u001b[0mparsers\u001b[0m\u001b[1;33m.\u001b[0m\u001b[0mTextReader\u001b[0m\u001b[1;33m(\u001b[0m\u001b[0msrc\u001b[0m\u001b[1;33m,\u001b[0m \u001b[1;33m**\u001b[0m\u001b[0mkwds\u001b[0m\u001b[1;33m)\u001b[0m\u001b[1;33m\u001b[0m\u001b[1;33m\u001b[0m\u001b[0m\n\u001b[0m\u001b[0;32m   2009\u001b[0m         \u001b[0mself\u001b[0m\u001b[1;33m.\u001b[0m\u001b[0munnamed_cols\u001b[0m \u001b[1;33m=\u001b[0m \u001b[0mself\u001b[0m\u001b[1;33m.\u001b[0m\u001b[0m_reader\u001b[0m\u001b[1;33m.\u001b[0m\u001b[0munnamed_cols\u001b[0m\u001b[1;33m\u001b[0m\u001b[1;33m\u001b[0m\u001b[0m\n\u001b[0;32m   2010\u001b[0m \u001b[1;33m\u001b[0m\u001b[0m\n",
      "\u001b[1;32mpandas\\_libs\\parsers.pyx\u001b[0m in \u001b[0;36mpandas._libs.parsers.TextReader.__cinit__\u001b[1;34m()\u001b[0m\n",
      "\u001b[1;32mpandas\\_libs\\parsers.pyx\u001b[0m in \u001b[0;36mpandas._libs.parsers.TextReader._setup_parser_source\u001b[1;34m()\u001b[0m\n",
      "\u001b[1;31mFileNotFoundError\u001b[0m: [Errno 2] No such file or directory: 'train.csv'"
     ]
    }
   ],
   "source": [
    "pd_train = pd.read_csv('train.csv') \n",
    "target_variable = pd_train[[\"GrLivArea\",\"YearBuilt\", \"SalePrice\"]]"
   ]
  },
  {
   "cell_type": "markdown",
   "metadata": {},
   "source": [
    "- ***WeVisualize the extracted variables from our data which we will be working with***"
   ]
  },
  {
   "cell_type": "code",
   "execution_count": null,
   "metadata": {},
   "outputs": [],
   "source": [
    "target_variable.head()"
   ]
  },
  {
   "cell_type": "markdown",
   "metadata": {},
   "source": [
    "# [Problem 2] Estimation and evaluation by linear regression"
   ]
  },
  {
   "cell_type": "markdown",
   "metadata": {},
   "source": [
    "- ***We are going to analyze and pre-process our data, then create and run a series of Linear regression training, estimation, evaluation, and visualization.***"
   ]
  },
  {
   "cell_type": "code",
   "execution_count": null,
   "metadata": {},
   "outputs": [],
   "source": []
  },
  {
   "cell_type": "code",
   "execution_count": null,
   "metadata": {
    "id": "FdnMhRRXTsQi",
    "outputId": "f6b94d36-0baa-4e14-f41f-bb447d4dc963"
   },
   "outputs": [],
   "source": [
    "from sklearn.linear_model import LinearRegression\n",
    "from sklearn.preprocessing import StandardScaler\n",
    "from sklearn.model_selection import train_test_split\n",
    "from sklearn.preprocessing import StandardScaler\n",
    "\n",
    "X = target_variable.loc[:, [\"GrLivArea\",\"YearBuilt\"]]\n",
    "y = target_variable[\"SalePrice\"]\n",
    "\n",
    "X_train, X_test, y_train, y_test = train_test_split(X, y, test_size=0.25, random_state=42)\n",
    "\n",
    "scaler = StandardScaler()\n",
    "scaler.fit(X_train)\n",
    "X_train_trans = scaler.transform(X_train)\n",
    "X_test_trans = scaler.transform(X_test)\n",
    "\n",
    "reg = LinearRegression().fit(X_train_trans, y_train)\n",
    "reg_pred = reg.predict(X_test_trans)\n",
    "\n",
    "from sklearn.metrics import mean_squared_error\n",
    "print(\"MSE:\", mean_squared_error(y_true=y_test, y_pred=reg_pred))"
   ]
  },
  {
   "cell_type": "markdown",
   "metadata": {},
   "source": [
    "- *** We are now visualizing the extracted data ***"
   ]
  },
  {
   "cell_type": "markdown",
   "metadata": {},
   "source": [
    "- by using scatter plot to create a graph that allow us to compare the actual data with the predicted results"
   ]
  },
  {
   "cell_type": "code",
   "execution_count": null,
   "metadata": {
    "id": "GKXeYcmRTsQi",
    "outputId": "fc519889-2439-4461-928e-f524ee24edde",
    "scrolled": true
   },
   "outputs": [],
   "source": [
    "import matplotlib.pyplot as plt\n",
    "plt.scatter(X_test.loc[:, 'GrLivArea'], y_test, label='actual')\n",
    "plt.title('GrLivArea')\n",
    "plt.xlabel('GrLivArea')\n",
    "plt.ylabel('SalePrice')\n",
    "plt.show()\n",
    "\n",
    "plt.scatter(X_test.loc[:,'GrLivArea'],reg_pred, label='predicted')\n",
    "plt.title('GrLiveArea Predicted Result')\n",
    "plt.xlabel('GrLiveArea')\n",
    "plt.ylabel('SalePrice')\n",
    "plt.show()\n",
    "\n",
    "plt.scatter(X_test.loc[:, 'YearBuilt'], y_test)\n",
    "plt.title('YearBuilt')\n",
    "plt.xlabel('YearBuilt')\n",
    "plt.ylabel('SalePrice')\n",
    "plt.show()"
   ]
  },
  {
   "cell_type": "markdown",
   "metadata": {},
   "source": [
    "# [Problem 3] Comparison of methods"
   ]
  },
  {
   "cell_type": "markdown",
   "metadata": {},
   "source": [
    "we estimate, evaluate and visualize in all of the following methods\n",
    "- Linear regression\n",
    "- SVM,\n",
    "- Decision tree\n",
    "- Random forest)\n",
    "***Then, we summarize the index values in one table***"
   ]
  },
  {
   "cell_type": "code",
   "execution_count": null,
   "metadata": {
    "id": "6QiOuKagTsQk",
    "outputId": "3b86f259-27eb-4c4f-8694-c4cb596d6224"
   },
   "outputs": [],
   "source": [
    "mSE_results = []\n",
    "model_names = []\n",
    "\n",
    "def display_outputs(title,y_prediction):\n",
    "    \n",
    "    #we calculate the MSE\n",
    "    mSE = mean_squared_error(y_true=y_test, y_pred=y_prediction)\n",
    "    \n",
    "    #and we add the results into a list\n",
    "    mSE_results.append(mSE)\n",
    "    model_names.append(title)\n",
    "\n",
    "    # Then we Display the results\n",
    "    print(title)\n",
    "    print(\"MSE:\", mSE)\n",
    "    \n",
    "    # here visualize the extrated data\n",
    "    plt.scatter(X_test.loc[:, 'GrLivArea'], y_test, label='actual') \n",
    "    plt.title('GrLivArea') \n",
    "    plt.xlabel('GrLivArea') \n",
    "    plt.ylabel('SalePrice') \n",
    "    plt.show()\n",
    "    \n",
    "    plt.scatter(X_test.loc[:, 'GrLivArea'], y_prediction)\n",
    "    plt.title('GrLivArea')\n",
    "    plt.xlabel('GrLivArea')\n",
    "    plt.ylabel('SalePrice')\n",
    "    plt.show()\n",
    "\n",
    "    plt.scatter(X_test.loc[:, 'YearBuilt'], y_prediction)\n",
    "    plt.title('YearBuilt')\n",
    "    plt.xlabel('YearBuilt')\n",
    "    plt.ylabel('SalePrice')\n",
    "    plt.show()\n",
    "    \n",
    "    # This code print a line that separate the results\n",
    "    print(\"-----------------------------------------\")\n",
    "\n",
    "from sklearn.linear_model import LogisticRegression\n",
    "from sklearn.pipeline import make_pipeline\n",
    "from sklearn.preprocessing import StandardScaler\n",
    "from sklearn.svm import SVC\n",
    "from sklearn.tree import DecisionTreeClassifier\n",
    "from sklearn.ensemble import RandomForestClassifier\n",
    "\n",
    "# linear regression\n",
    "reg = LinearRegression().fit(X_train_trans, y_train)\n",
    "\n",
    "# prediction\n",
    "reg_pred = reg.predict(X_test_trans)\n",
    "\n",
    "# passing data into the outputing function\n",
    "display_outputs('Linear Regression', reg_pred)\n",
    "\n",
    "# SVM\n",
    "clf = make_pipeline(StandardScaler(), SVC(gamma='auto'))\n",
    "\n",
    "# fitting\n",
    "clf.fit(X_train_trans, y_train)\n",
    "\n",
    "# prediction\n",
    "clf_pred = clf.predict(X_test_trans)\n",
    "\n",
    "# passing data into the outputing function\n",
    "display_outputs('SVM', clf_pred)\n",
    "\n",
    "# Decision tree\n",
    "dTC = DecisionTreeClassifier(random_state=0)\n",
    "\n",
    "# fitting\n",
    "dTC.fit(X_train_trans, y_train)\n",
    "\n",
    "# prediction\n",
    "dTC_pred = dTC.predict(X_test_trans)\n",
    "\n",
    "# passing data into the outputing function\n",
    "display_outputs('Decision tree', dTC_pred)\n",
    "\n",
    "# Random Forest\n",
    "rFC = RandomForestClassifier(max_depth=2, random_state=0)\n",
    "\n",
    "# fitting\n",
    "rFC.fit(X_train_trans, y_train)\n",
    "\n",
    "# prediction\n",
    "rFC_pred = rFC.predict(X_test_trans)\n",
    "\n",
    "# passing data into the outputing function\n",
    "display_outputs('Random Forest', rFC_pred)\n"
   ]
  },
  {
   "cell_type": "code",
   "execution_count": null,
   "metadata": {
    "id": "_MEqB1PnTsQl",
    "outputId": "6d04a984-7473-4a93-a69e-a8cc5be80ac6"
   },
   "outputs": [],
   "source": [
    "# putting the results in a table\n",
    "pd.DataFrame(mSE_results, index=model_names, columns=['MSE'])"
   ]
  },
  {
   "cell_type": "markdown",
   "metadata": {
    "id": "8GIX8F0qTsQl"
   },
   "source": [
    "- **Mean Squared Error(MSE)** is a measure of how close a fitted line is to data points.\n",
    "\n",
    "- **What the figure looked like**\n",
    "The smaller the **Mean Squared Error(MSE)**, the closer the fit is to the data\n",
    "\n",
    "After splitting the dataset into train and test the dataset and we also get the predicted data from various methods,\n",
    "we then calculate MSE using  each method.\n",
    "\n",
    "- Linear Regression shows a better result because it's result is closer to 0 than the output of other methods."
   ]
  },
  {
   "cell_type": "markdown",
   "metadata": {},
   "source": [
    "# [Problem 4] (Advance assignment) Learning using other features"
   ]
  },
  {
   "cell_type": "markdown",
   "metadata": {},
   "source": [
    "###### We show the data"
   ]
  },
  {
   "cell_type": "code",
   "execution_count": null,
   "metadata": {
    "id": "yErfi9gRTsQm",
    "outputId": "47a12466-3f27-422d-eedc-127869546484"
   },
   "outputs": [],
   "source": [
    "pd_train.head()"
   ]
  },
  {
   "cell_type": "code",
   "execution_count": null,
   "metadata": {
    "id": "0MyNgIsgTsQm",
    "outputId": "b741cb0c-3f6f-41ee-e5ba-e9f1c253ba65"
   },
   "outputs": [],
   "source": [
    "# adding other features to the variable to be used\n",
    "target_variable = pd_train[[\"GrLivArea\",\"YearBuilt\", \"SalePrice\", \"LotArea\", \"YrSold\"]]\n",
    "\n",
    "# dividing them into different variables\n",
    "X = target_variable.loc[:, [\"GrLivArea\",\"YearBuilt\", \"LotArea\", \"YrSold\"]]\n",
    "y = target_variable[\"SalePrice\"]\n",
    "\n",
    "# splitting the data\n",
    "X_train, X_test, y_train, y_test = train_test_split(X, y, test_size=0.25, random_state=42)\n",
    "\n",
    "# standardizing the data\n",
    "scaler = StandardScaler()\n",
    "\n",
    "# fitting\n",
    "scaler.fit(X_train)\n",
    "\n",
    "# transforming\n",
    "X_train_trans = scaler.transform(X_train)\n",
    "X_test_trans = scaler.transform(X_test)\n",
    "\n",
    "# fitting\n",
    "reg = LinearRegression().fit(X_train_trans, y_train)\n",
    "\n",
    "# prediction\n",
    "reg_pred = reg.predict(X_test_trans)\n",
    "\n",
    "# calculating and displaying the MSE\n",
    "print(\"MSE:\", mean_squared_error(y_true=y_test, y_pred=reg_pred))"
   ]
  },
  {
   "cell_type": "code",
   "execution_count": null,
   "metadata": {
    "id": "y-xe8q4FTsQo"
   },
   "outputs": [],
   "source": []
  }
 ],
 "metadata": {
  "colab": {
   "name": "week4preclass2.ipynb",
   "provenance": []
  },
  "kernelspec": {
   "display_name": "Python 3",
   "language": "python",
   "name": "python3"
  },
  "language_info": {
   "codemirror_mode": {
    "name": "ipython",
    "version": 3
   },
   "file_extension": ".py",
   "mimetype": "text/x-python",
   "name": "python",
   "nbconvert_exporter": "python",
   "pygments_lexer": "ipython3",
   "version": "3.8.5"
  }
 },
 "nbformat": 4,
 "nbformat_minor": 1
}
