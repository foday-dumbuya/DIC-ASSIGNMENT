{
 "cells": [
  {
   "cell_type": "markdown",
   "metadata": {},
   "source": [
    "### Acquisition of elevation data"
   ]
  },
  {
   "cell_type": "code",
   "execution_count": null,
   "metadata": {},
   "outputs": [],
   "source": [
    "import numpy as np\n",
    "import pandas as pd #This is were we are going to store the explanatory variables\n",
    "from sklearn.datasets import load_iris # This is a machine learning library\n",
    "\n",
    "data = load_iris() #here the data is loaded\n",
    "\n",
    "data #we call the data"
   ]
  },
  {
   "cell_type": "code",
   "execution_count": null,
   "metadata": {},
   "outputs": [],
   "source": [
    "data.keys()"
   ]
  },
  {
   "cell_type": "code",
   "execution_count": null,
   "metadata": {},
   "outputs": [],
   "source": [
    "data.data"
   ]
  },
  {
   "cell_type": "code",
   "execution_count": null,
   "metadata": {},
   "outputs": [],
   "source": [
    "data.target_names"
   ]
  },
  {
   "cell_type": "code",
   "execution_count": null,
   "metadata": {},
   "outputs": [],
   "source": [
    "data.feature_names"
   ]
  },
  {
   "cell_type": "markdown",
   "metadata": {},
   "source": [
    "### Vaiable X = Pandas DataFrame"
   ]
  },
  {
   "cell_type": "code",
   "execution_count": null,
   "metadata": {},
   "outputs": [],
   "source": [
    "X = pd.DataFrame(data.data,columns=['sepal_length','sepal_width','petal_length',\"petal_width\"])\n",
    "X.head()"
   ]
  },
  {
   "cell_type": "markdown",
   "metadata": {},
   "source": [
    "### Variable Y = Objective"
   ]
  },
  {
   "cell_type": "code",
   "execution_count": null,
   "metadata": {},
   "outputs": [],
   "source": [
    "Y = pd.DataFrame(data.target,columns=['species'])\n",
    "Y.head()"
   ]
  },
  {
   "cell_type": "markdown",
   "metadata": {},
   "source": [
    "### Problem 2 Combining data\n",
    "##### A DataFrame variable (df) that combines the X and y"
   ]
  },
  {
   "cell_type": "code",
   "execution_count": null,
   "metadata": {},
   "outputs": [],
   "source": [
    "df = pd.concat([X,Y], axis=1)\n",
    "df.head()"
   ]
  },
  {
   "cell_type": "markdown",
   "metadata": {},
   "source": [
    "### Problem 3 Checking the data¶\n",
    "##### Here we check what kind of data we will be working with\n",
    "##### First we Display the 4th sample from the beginning and see what each feature is like. (Numerical data or character data, etc.)"
   ]
  },
  {
   "cell_type": "code",
   "execution_count": null,
   "metadata": {},
   "outputs": [],
   "source": [
    "X4 = df[3:4]\n",
    "X4"
   ]
  },
  {
   "cell_type": "markdown",
   "metadata": {},
   "source": [
    "### see what each feature is like"
   ]
  },
  {
   "cell_type": "code",
   "execution_count": null,
   "metadata": {},
   "outputs": [],
   "source": [
    "X4.info()"
   ]
  },
  {
   "cell_type": "markdown",
   "metadata": {},
   "source": [
    "### the total number of samples for each label"
   ]
  },
  {
   "cell_type": "code",
   "execution_count": null,
   "metadata": {},
   "outputs": [],
   "source": [
    "df['species'].value_counts()"
   ]
  },
  {
   "cell_type": "markdown",
   "metadata": {},
   "source": [
    "### We Check if there is a missing value in the feature quantity"
   ]
  },
  {
   "cell_type": "code",
   "execution_count": null,
   "metadata": {},
   "outputs": [],
   "source": [
    "df.info()\n",
    "df.isnull().sum()"
   ]
  },
  {
   "cell_type": "markdown",
   "metadata": {},
   "source": [
    "### We Display the mean, standard deviation, and quartiles of the feature values at once"
   ]
  },
  {
   "cell_type": "code",
   "execution_count": null,
   "metadata": {},
   "outputs": [],
   "source": [
    "df.describe()"
   ]
  },
  {
   "cell_type": "markdown",
   "metadata": {},
   "source": [
    "### Problem 4 Examining the iris dataset itself¶\n",
    "This Fisher’s or Anderson’s iris data set was made back in the day - the British statistician and biologist Ronald Fisher published it in his 1936 paper “The use of multiple measurements in taxonomic problems” as an example of linear discriminant analysis. It is sometimes called Anderson’s Iris data set because Edgar Anderson collected the data to quantify the morphologic variation of Iris flowers of three related species. Basically, these two very old scientist guys gave birth to dataset, which is still used today to lear basicas of RStudio. iris dataset gives the measurements in centimeters of the variables sepal length and width and petal length and width, respectively, for 50 flowers from each of 3 species of iris. The species are Iris setosa, versicolor, and virginica\n",
    "The Iris Dataset contains four features (length and width of sepals and petals) of 50 samples of three species of Iris (Iris setosa, Iris virginica and Iris versicolor). These measures were used to create a linear discriminant model to classify the species. The dataset is often used in data mining, classification and clustering examples and to test algorithms"
   ]
  },
  {
   "cell_type": "markdown",
   "metadata": {},
   "source": [
    "### Problem 5 Extracting the required data\n",
    "Extractsepal_width, columns in three different ways"
   ]
  },
  {
   "cell_type": "code",
   "execution_count": null,
   "metadata": {},
   "outputs": [],
   "source": [
    "df.loc[:,'sepal_width']#method 1"
   ]
  },
  {
   "cell_type": "code",
   "execution_count": null,
   "metadata": {},
   "outputs": [],
   "source": [
    "df.iloc[:,1:2].head()#method 2"
   ]
  },
  {
   "cell_type": "code",
   "execution_count": null,
   "metadata": {},
   "outputs": [],
   "source": [
    "df['sepal_width']#method 3"
   ]
  },
  {
   "cell_type": "markdown",
   "metadata": {},
   "source": [
    "#### Extract the 50th to 99th data"
   ]
  },
  {
   "cell_type": "code",
   "execution_count": null,
   "metadata": {},
   "outputs": [],
   "source": [
    "df.loc[50:99]"
   ]
  },
  {
   "cell_type": "markdown",
   "metadata": {},
   "source": [
    "#### Extract the50th to 99th data of thepetal_lengthcolumn"
   ]
  },
  {
   "cell_type": "code",
   "execution_count": null,
   "metadata": {},
   "outputs": [],
   "source": [
    "df.iloc[50:100, 2]\n"
   ]
  },
  {
   "cell_type": "markdown",
   "metadata": {},
   "source": [
    "### Extract data with apetal_width value of 0.2"
   ]
  },
  {
   "cell_type": "code",
   "execution_count": null,
   "metadata": {},
   "outputs": [],
   "source": [
    "df.loc[:,'petal_width'][df.iloc[:,3] == 0.2]\n"
   ]
  },
  {
   "cell_type": "markdown",
   "metadata": {},
   "source": [
    "### Difference between .loc and .iloc\n",
    "loc() : loc() is label based data selecting method which means that we have to pass the name of the row or column which we want to select. This method includes the last element of the range passed in it, unlike iloc(). loc() can accept the boolean data unlike iloc()\n",
    "iloc() : iloc() is a indexed based selecting method which means that we have to pass integer index in the method to select specific row/column. This method does not include the last element of the range passed in it unlike loc(). iloc() does not accept the boolean data unlike loc()"
   ]
  },
  {
   "cell_type": "markdown",
   "metadata": {},
   "source": [
    "### Problem 6 Creating a diagram¶\n",
    "##### Make a pie chart of the number of samples per label (while showing percentages)"
   ]
  },
  {
   "cell_type": "code",
   "execution_count": null,
   "metadata": {},
   "outputs": [],
   "source": [
    "import matplotlib.pyplot as plt\n",
    "sample_setosa = df[df['species']==0]\n",
    "sample_virgiclor = df[df['species']==1]\n",
    "sample_virginica = df[df['species']==2]\n",
    "\n",
    "samples = [len(sample_setosa), len(sample_virgiclor), len(sample_virgiclor)]\n",
    "labels = 'setosa', 'virgiclor','virginca'\n",
    "explode = (0.1, 0.1, 0.1)\n",
    "plt.pie(samples,explode=explode, labels=labels, autopct='%1.1f%%',\n",
    "       shadow=True, startangle=90)\n",
    "plt.title(\"A pie chart of the number of samples per label\")\n",
    "plt.show()"
   ]
  },
  {
   "cell_type": "markdown",
   "metadata": {},
   "source": [
    "##### Select features one by one and visualize the distribution of data for each label using a box plot¶\n",
    "#### Select features one by one and visualize the distribution of data for each label using a violin plot\n",
    "#### for sepal length"
   ]
  },
  {
   "cell_type": "code",
   "execution_count": null,
   "metadata": {},
   "outputs": [],
   "source": [
    "import seaborn as sns\n",
    "fig, axes = plt.subplots(1, 2)\n",
    "\n",
    "sns.boxplot(x=\"species\", y=\"sepal_length\",data=df, ax=axes[0])\n",
    "sns.violinplot(x=\"species\", y=\"sepal_length\",data=df,ax=axes[1])\n",
    "\n",
    "axes[0].set_xticklabels(['setosa','virgiclor','virginica'])\n",
    "axes[0].set_title('sepal_length boxplot')\n",
    "\n",
    "axes[1].set_xticklabels(['setosa','virgiclor','virginica'])\n",
    "axes[1].set_title('sepal_length violinplot')\n",
    "fig.set_size_inches(14, 5)\n",
    "plt.show()"
   ]
  },
  {
   "cell_type": "markdown",
   "metadata": {},
   "source": [
    "#### for sepal width"
   ]
  },
  {
   "cell_type": "code",
   "execution_count": null,
   "metadata": {},
   "outputs": [],
   "source": [
    "fig, axes = plt.subplots(1, 2)\n",
    "\n",
    "sns.boxplot(x=\"species\", y=\"petal_length\",data=df, ax=axes[0])\n",
    "sns.violinplot(x=\"species\", y=\"petal_length\",data=df,ax=axes[1])\n",
    "\n",
    "axes[0].set_xticklabels(['setosa','virgiclor','virginica'])\n",
    "axes[0].set_title('petal_length boxplot')\n",
    "\n",
    "axes[1].set_xticklabels(['setosa','virgiclor','virginica'])\n",
    "axes[1].set_title('petal_length violinplot')\n",
    "\n",
    "fig.set_size_inches(14, 5)\n",
    "plt.show()"
   ]
  },
  {
   "cell_type": "markdown",
   "metadata": {},
   "source": [
    "### Box plots and violin plots display similar plots. Explain how they differ and what advantages each has"
   ]
  },
  {
   "cell_type": "markdown",
   "metadata": {},
   "source": [
    "violin plots are closely related to Tukey's (1977) box plots,they add useful information such as the distribution of the sample data (density trace).\n",
    "By default, box plots show data points outside 1.5 * the inter-quartile range as outliers above whereas violin plots show the whole range of the data Moreover A violin plot is more informative than a plain box plot. While a box plot only shows summary statistics such as mean/median and interquartile ranges, the violin plot shows the full distribution of the data. The difference is particularly useful when the data distribution is multimodal (more than one peak). In this case a violin plot shows the presence of different peaks, their position and relative amplitude. Like box plots, violin plots are used to represent comparison of a variable distribution (or sample distribution) across different \"categories\" (for example, temperature distribution compared between day and night, or distribution of car prices compared across different car makers)."
   ]
  },
  {
   "cell_type": "markdown",
   "metadata": {},
   "source": [
    "### Problem 7 Confirming the relationship between features\n",
    "Take one feature for each of the vertical and horizontal axes and create a color-coded scatter plot for each type (6)."
   ]
  },
  {
   "cell_type": "code",
   "execution_count": null,
   "metadata": {},
   "outputs": [],
   "source": [
    "s1 = df[df['species']==0]\n",
    "s2 = df[df['species']==1]\n",
    "s3 = df[df['species']==2]\n",
    "\n",
    "labels = data.target_names\n",
    "label =['sepal_length','sepal_width','petal_length','petal_width']"
   ]
  },
  {
   "cell_type": "code",
   "execution_count": null,
   "metadata": {},
   "outputs": [],
   "source": [
    "import matplotlib.pyplot as plt\n",
    "%matplotlib inline\n",
    "plt.xlabel(label[2])\n",
    "plt.ylabel(label[1])\n",
    "plt.scatter(s1.iloc[:, 0], s1.iloc[:, 1], label=labels[0])\n",
    "plt.scatter(s2.iloc[:, 0], s2.iloc[:, 1], label=labels[1])\n",
    "plt.scatter(s3.iloc[:, 0], s3.iloc[:, 1], label=labels[2])\n",
    "plt.legend()\n",
    "plt.show()"
   ]
  },
  {
   "cell_type": "code",
   "execution_count": null,
   "metadata": {},
   "outputs": [],
   "source": [
    "data.target_names\n"
   ]
  },
  {
   "cell_type": "code",
   "execution_count": null,
   "metadata": {},
   "outputs": [],
   "source": [
    "fig, ((ax1,ax2,ax3), (ax4,ax5,ax6)) = plt.subplots(2, 3, figsize=(20, 10))\n",
    "\n",
    "ax1.scatter(s1.iloc[:,0], s1.iloc[:,1], label=labels[0])\n",
    "ax1.scatter(s2.iloc[:,0], s2.iloc[:,1], label=labels[1])\n",
    "ax1.scatter(s3.iloc[:,0], s3.iloc[:,1], label=labels[2])\n",
    "\n",
    "ax1.set_title('scatter Plot of Feature Values')\n",
    "ax1.set_xlabel(label[0])\n",
    "ax1.set_ylabel(label[1])\n",
    "ax1.legend()\n",
    "\n",
    "\n",
    "ax2.scatter(s1.iloc[:,0], s1.iloc[:,2], label=labels[0])\n",
    "ax2.scatter(s2.iloc[:,0], s2.iloc[:,2], label=labels[1])\n",
    "ax2.scatter(s3.iloc[:,0], s3.iloc[:,2], label=labels[2])\n",
    "\n",
    "ax2.set_title('scatter Plot of Feature Values')\n",
    "ax2.set_xlabel(label[0])\n",
    "ax2.set_ylabel(label[2])\n",
    "ax2.legend()\n",
    "\n",
    "ax3.scatter(s1.iloc[:,0], s1.iloc[:,3], label=labels[0])\n",
    "ax3.scatter(s2.iloc[:,0], s2.iloc[:,3], label=labels[1])\n",
    "ax3.scatter(s3.iloc[:,0], s3.iloc[:,3], label=labels[2])\n",
    "\n",
    "ax3.set_title('scatter Plot of Feature Values')\n",
    "ax3.set_xlabel(label[0])\n",
    "ax3.set_ylabel(label[3])\n",
    "ax3.legend()\n",
    "\n",
    "\n",
    "ax4.scatter(s1.iloc[:,1], s1.iloc[:,2], label=labels[0])\n",
    "ax4.scatter(s2.iloc[:,1], s2.iloc[:,2], label=labels[1])\n",
    "ax4.scatter(s3.iloc[:,1], s3.iloc[:,2], label=labels[2])\n",
    "\n",
    "ax4.set_title('scatter Plot of Feature Values')\n",
    "ax4.set_xlabel(label[1])\n",
    "ax4.set_ylabel(label[2])\n",
    "ax4.legend()\n",
    "\n",
    "ax5.scatter(s1.iloc[:,1], s1.iloc[:,3], label=labels[0])\n",
    "ax5.scatter(s2.iloc[:,1], s2.iloc[:,3], label=labels[1])\n",
    "ax5.scatter(s3.iloc[:,1], s3.iloc[:,3], label=labels[2])\n",
    "\n",
    "ax5.set_title('scatter Plot of Feature Values')\n",
    "ax5.set_xlabel(label[1])\n",
    "ax5.set_ylabel(label[3])\n",
    "ax5.legend()\n",
    "\n",
    "\n",
    "ax6.scatter(s1.iloc[:,2], s1.iloc[:,3], label=labels[0])\n",
    "ax6.scatter(s2.iloc[:,2], s2.iloc[:,3], label=labels[1])\n",
    "ax6.scatter(s3.iloc[:,2], s3.iloc[:,3], label=labels[2])\n",
    "\n",
    "ax6.set_title('scatter Plot of Feature Values')\n",
    "ax6.set_xlabel(label[2])\n",
    "ax6.set_ylabel(label[3])\n",
    "ax6.legend()\n",
    "\n",
    "plt.show()"
   ]
  },
  {
   "cell_type": "markdown",
   "metadata": {},
   "source": [
    "#### Create a scatterplot matrix that displays all combinations of scatterplots at once (1)"
   ]
  },
  {
   "cell_type": "code",
   "execution_count": null,
   "metadata": {},
   "outputs": [],
   "source": [
    "sns.pairplot(df, diag_kind=\"kde\",hue='species')\n",
    "plt.show()"
   ]
  },
  {
   "cell_type": "markdown",
   "metadata": {},
   "source": [
    "#### Create a correlation coefficient matrix for 4 features"
   ]
  },
  {
   "cell_type": "code",
   "execution_count": null,
   "metadata": {},
   "outputs": [],
   "source": [
    "corrMatrix = X.corr()\n",
    "corrMatrix"
   ]
  },
  {
   "cell_type": "markdown",
   "metadata": {},
   "source": [
    "#### Make a heat map of the correlation coefficient matrix (1)¶"
   ]
  },
  {
   "cell_type": "code",
   "execution_count": null,
   "metadata": {},
   "outputs": [],
   "source": [
    "sns.heatmap(corrMatrix, annot=True)\n",
    "plt.show()"
   ]
  },
  {
   "cell_type": "code",
   "execution_count": null,
   "metadata": {},
   "outputs": [],
   "source": []
  }
 ],
 "metadata": {
  "kernelspec": {
   "display_name": "Python 3",
   "language": "python",
   "name": "python3"
  },
  "language_info": {
   "codemirror_mode": {
    "name": "ipython",
    "version": 3
   },
   "file_extension": ".py",
   "mimetype": "text/x-python",
   "name": "python",
   "nbconvert_exporter": "python",
   "pygments_lexer": "ipython3",
   "version": "3.8.5"
  }
 },
 "nbformat": 4,
 "nbformat_minor": 4
}
